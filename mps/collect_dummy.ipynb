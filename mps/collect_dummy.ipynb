{
 "cells": [
  {
   "cell_type": "code",
   "execution_count": 3,
   "metadata": {},
   "outputs": [],
   "source": [
    "import pandas as pd\n",
    "import json\n"
   ]
  },
  {
   "cell_type": "code",
   "execution_count": 4,
   "metadata": {},
   "outputs": [],
   "source": [
    "df = pd.read_csv('/work/li.baol/MISO_utils/dummy.csv')\n",
    "\n",
    "memory_dict = {}\n",
    "util_sm = {}\n",
    "util_mem = {}\n",
    "power = {}\n",
    "\n",
    "memory_dict['dummy'] = {}\n",
    "util_sm['dummy'] = {}\n",
    "util_mem['dummy'] = {}\n",
    "power['dummy'] = {}\n",
    "\n",
    "memory_dict['dummy'][32] = round(df['memory.used [MiB]'].mean(),2)\n",
    "util_sm['dummy'][32] = round(df[' utilization.gpu [%]'].mean(),2)\n",
    "util_mem['dummy'][32] = round(df[' utilization.memory [%]'].mean(),2)\n",
    "power['dummy'][32] = round(df[' power.draw [W]'].mean(), 2)"
   ]
  },
  {
   "cell_type": "code",
   "execution_count": 5,
   "metadata": {},
   "outputs": [],
   "source": [
    "import os\n",
    "home = os.environ.get('HOME')\n",
    "\n",
    "with open(f'{home}/GIT/socc22-miso/mps/configs/memory_dummy.json', 'w') as f:\n",
    "    json.dump(memory_dict['dummy'], f, indent=4)\n",
    "with open(f'{home}/GIT/socc22-miso/mps/configs/util_sm_dummy.json', 'w') as f:\n",
    "    json.dump(util_sm['dummy'], f, indent=4)    \n",
    "with open(f'{home}/GIT/socc22-miso/mps/configs/util_mem_dummy.json', 'w') as f:\n",
    "    json.dump(util_mem['dummy'], f, indent=4)    \n",
    "with open(f'{home}/GIT/socc22-miso/mps/configs/power_dummy.json', 'w') as f:\n",
    "    json.dump(power['dummy'], f, indent=4)"
   ]
  }
 ],
 "metadata": {
  "kernelspec": {
   "display_name": "Python 3.7.11 ('tf2')",
   "language": "python",
   "name": "python3"
  },
  "language_info": {
   "codemirror_mode": {
    "name": "ipython",
    "version": 3
   },
   "file_extension": ".py",
   "mimetype": "text/x-python",
   "name": "python",
   "nbconvert_exporter": "python",
   "pygments_lexer": "ipython3",
   "version": "3.7.11"
  },
  "orig_nbformat": 4,
  "vscode": {
   "interpreter": {
    "hash": "830823007ce6cdb6807acf32312531502a46d47d04063cc7cc0e1e7278d8c1f8"
   }
  }
 },
 "nbformat": 4,
 "nbformat_minor": 2
}
