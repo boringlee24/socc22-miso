{
 "cells": [
  {
   "cell_type": "code",
   "execution_count": 5,
   "id": "1cc402b4",
   "metadata": {},
   "outputs": [],
   "source": [
    "import json\n",
    "import numpy as np\n",
    "import pdb\n",
    "import itertools"
   ]
  },
  {
   "cell_type": "code",
   "execution_count": 4,
   "id": "def9b3f9",
   "metadata": {},
   "outputs": [],
   "source": [
    "num_gpu = 8\n",
    "config = {0: [7],\n",
    "          1: [4,2,1],\n",
    "          2: [4,1,1,1],\n",
    "          3: [3,3],\n",
    "          4: [3,2,1],\n",
    "          5: [3,1,1,1],\n",
    "          6: [2,2,3],\n",
    "          7: [2,1,1,3],\n",
    "          8: [1,1,2,3],\n",
    "          9: [1,1,1,1,3],\n",
    "          10:[2,2,2,1],\n",
    "          11:[2,1,1,2,1],\n",
    "          12:[1,1,2,2,1],\n",
    "          13:[2,1,1,1,1,1],\n",
    "          14:[1,1,2,1,1,1],\n",
    "          15:[1,1,1,1,2,1],\n",
    "          16:[1,1,1,1,1,2],\n",
    "          17:[1,1,1,1,1,1,1]\n",
    "        }\n",
    "with open('partition_code.json', 'w') as f:\n",
    "    json.dump(config, f, indent=4)"
   ]
  },
  {
   "cell_type": "code",
   "execution_count": 6,
   "id": "7d381d7a",
   "metadata": {},
   "outputs": [],
   "source": [
    "config = {0: [7],\n",
    "          1: [2,1,4],\n",
    "          2: [1,1,1,4],\n",
    "          3: [3,3],\n",
    "          4: [2,1,3],\n",
    "          5: [1,1,1,3],\n",
    "          6: [3,2,2],\n",
    "          7: [3,2,1,1],\n",
    "          8: [3,1,1,2],\n",
    "          9: [3,1,1,1,1],\n",
    "          10:[2,1,2,2],\n",
    "          11:[2,1,2,1,1],\n",
    "          12:[2,1,1,1,2],\n",
    "          13:[1,1,1,2,1,1],\n",
    "          14:[1,1,1,1,1,2],\n",
    "          15:[2,1,1,1,1,1],\n",
    "          16:[1,2,1,1,1,1],\n",
    "          17:[1,1,1,1,1,1,1]\n",
    "        }\n",
    "with open('partition_code.json', 'w') as f:\n",
    "    json.dump(config, f, indent=4)"
   ]
  },
  {
   "cell_type": "code",
   "execution_count": 3,
   "id": "09d17918",
   "metadata": {},
   "outputs": [
    {
     "data": {
      "text/plain": [
       "18014398509481984"
      ]
     },
     "execution_count": 3,
     "metadata": {},
     "output_type": "execute_result"
    }
   ],
   "source": [
    "8**18"
   ]
  },
  {
   "cell_type": "code",
   "execution_count": 17,
   "id": "3ed87e49",
   "metadata": {},
   "outputs": [
    {
     "data": {
      "text/plain": [
       "(0, 0, 0, 0, 0, 0, 0, 0)"
      ]
     },
     "execution_count": 17,
     "metadata": {},
     "output_type": "execute_result"
    }
   ],
   "source": [
    "itertools.product(range(len(config)),repeat=num_gpu).__next__()"
   ]
  },
  {
   "cell_type": "code",
   "execution_count": 4,
   "id": "1a72f965",
   "metadata": {},
   "outputs": [],
   "source": [
    "def mapping(seq):\n",
    "    map_dict = {7: 0, 4: 0, 3: 0, 2: 0, 1: 0}\n",
    "    for s in seq:\n",
    "        c = config[s]\n",
    "        for item in c:\n",
    "            map_dict[item] += 1\n",
    "    return str(map_dict)"
   ]
  },
  {
   "cell_type": "code",
   "execution_count": 22,
   "id": "5da6af95",
   "metadata": {},
   "outputs": [
    {
     "data": {
      "text/plain": [
       "'{7: 7, 4: 1, 3: 0, 2: 1, 1: 1}'"
      ]
     },
     "execution_count": 22,
     "metadata": {},
     "output_type": "execute_result"
    }
   ],
   "source": [
    "mapping((0, 0, 1, 0, 0, 0, 0, 0))"
   ]
  },
  {
   "cell_type": "code",
   "execution_count": 23,
   "id": "b0eb3d24",
   "metadata": {},
   "outputs": [
    {
     "data": {
      "text/plain": [
       "8217"
      ]
     },
     "execution_count": 23,
     "metadata": {},
     "output_type": "execute_result"
    }
   ],
   "source": [
    "mapped_dict = {}\n",
    "gen = itertools.product(range(len(config)),repeat=num_gpu)\n",
    "\n",
    "for seq in gen:\n",
    "    mapping_str = mapping(seq)\n",
    "    if mapping_str in mapped_dict:\n",
    "        mapped_dict[mapping_str] += 1\n",
    "    else:\n",
    "        mapped_dict[mapping_str] = 1\n",
    "len(mapped_dict)"
   ]
  },
  {
   "cell_type": "code",
   "execution_count": 26,
   "id": "31bd367b",
   "metadata": {},
   "outputs": [],
   "source": [
    "with open('mapped_8gpu.json', 'w') as f:\n",
    "    json.dump(mapped_dict, f, indent=4)"
   ]
  },
  {
   "cell_type": "code",
   "execution_count": 27,
   "id": "8c9532cc",
   "metadata": {},
   "outputs": [
    {
     "data": {
      "text/plain": [
       "4.5613512966724556e-11"
      ]
     },
     "execution_count": 27,
     "metadata": {},
     "output_type": "execute_result"
    }
   ],
   "source": [
    "len(mapped_dict) / 8**18 * 100"
   ]
  },
  {
   "cell_type": "code",
   "execution_count": null,
   "id": "628a6123",
   "metadata": {},
   "outputs": [],
   "source": [
    "new_mapped_dict = {}\n",
    "gen = itertools.product(range(len(config)),repeat=16)\n",
    "\n",
    "for seq in gen:\n",
    "    mapping_str = mapping(seq)\n",
    "    if mapping_str in new_mapped_dict:\n",
    "        new_mapped_dict[mapping_str] += 1\n",
    "    else:\n",
    "        new_mapped_dict[mapping_str] = 1\n",
    "len(new_mapped_dict)"
   ]
  },
  {
   "cell_type": "code",
   "execution_count": null,
   "id": "43749030",
   "metadata": {},
   "outputs": [],
   "source": [
    "with open('mapped_16gpu.json', 'w') as f:\n",
    "    json.dump(new_mapped_dict, f, indent=4)"
   ]
  },
  {
   "cell_type": "code",
   "execution_count": null,
   "id": "b3d27602",
   "metadata": {},
   "outputs": [],
   "source": []
  }
 ],
 "metadata": {
  "kernelspec": {
   "display_name": "tf2",
   "language": "python",
   "name": "tf2"
  },
  "language_info": {
   "codemirror_mode": {
    "name": "ipython",
    "version": 3
   },
   "file_extension": ".py",
   "mimetype": "text/x-python",
   "name": "python",
   "nbconvert_exporter": "python",
   "pygments_lexer": "ipython3",
   "version": "3.7.11"
  }
 },
 "nbformat": 4,
 "nbformat_minor": 5
}
