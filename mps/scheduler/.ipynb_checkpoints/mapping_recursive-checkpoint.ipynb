{
 "cells": [
  {
   "cell_type": "code",
   "execution_count": 1,
   "id": "1cc402b4",
   "metadata": {},
   "outputs": [],
   "source": [
    "import json\n",
    "import numpy as np\n",
    "import pdb\n",
    "import itertools\n",
    "import ast"
   ]
  },
  {
   "cell_type": "code",
   "execution_count": 2,
   "id": "bf1f119a",
   "metadata": {},
   "outputs": [],
   "source": [
    "num_gpu = 8\n",
    "config = {0: [7],\n",
    "          1: [4,2,1],\n",
    "          2: [4,1,1,1],\n",
    "          3: [3,3],\n",
    "          4: [3,2,1],\n",
    "          5: [3,1,1,1],\n",
    "          6: [2,2,3],\n",
    "          7: [2,1,1,3],\n",
    "          8: [1,1,1,1,3],\n",
    "          9:[2,2,2,1],\n",
    "          10:[2,1,1,2,1],\n",
    "          11:[2,1,1,1,1,1],\n",
    "          12:[1,1,1,1,1,1,1]\n",
    "        }\n",
    "\n",
    "with open('partition_code.json', 'w') as f:\n",
    "    json.dump(config, f, indent=4)"
   ]
  },
  {
   "cell_type": "code",
   "execution_count": 1,
   "id": "def9b3f9",
   "metadata": {},
   "outputs": [],
   "source": [
    "def mapping(seq):\n",
    "    map_dict = {7: 0, 4: 0, 3: 0, 2: 0, 1: 0}\n",
    "    for s in seq:\n",
    "        c = config[s]\n",
    "        for item in c:\n",
    "            map_dict[item] += 1\n",
    "    return str(map_dict)"
   ]
  },
  {
   "cell_type": "code",
   "execution_count": 11,
   "id": "09d17918",
   "metadata": {},
   "outputs": [],
   "source": [
    "def map_nonrecurse(num_gpu):\n",
    "    mapped_dict = {}\n",
    "    gen = itertools.product(range(len(config)),repeat=num_gpu)\n",
    "\n",
    "    for seq in gen:\n",
    "        mapping_str = mapping(seq)\n",
    "        if mapping_str in mapped_dict:\n",
    "            mapped_dict[mapping_str] += 1\n",
    "        else:\n",
    "            mapped_dict[mapping_str] = 1\n",
    "    return mapped_dict"
   ]
  },
  {
   "cell_type": "code",
   "execution_count": 19,
   "id": "31bd367b",
   "metadata": {},
   "outputs": [],
   "source": [
    "def map_recurse(num_gpu):\n",
    "    if num_gpu == 1:\n",
    "        with open('mapped_1gpu.json') as f:\n",
    "            map_space = json.load(f)\n",
    "        return map_space\n",
    "    else:\n",
    "        prev_space = map_recurse(num_gpu-1)\n",
    "        map_space = {}\n",
    "        for key in prev_space:            \n",
    "            for partition in config.values(): # [4,2,1]\n",
    "                key_dict = ast.literal_eval(key) # {7: 1, 4: 0, 3: 0, 2: 0, 1: 0}\n",
    "                for mig_slice in partition: # 4\n",
    "                    key_dict[mig_slice] += 1\n",
    "                # key_dict = {7: 1, 4: 1, 3: 0, 2: 1, 1: 1}\n",
    "                if str(key_dict) in map_space:\n",
    "                    map_space[str(key_dict)] += 1\n",
    "                else:\n",
    "                    map_space[str(key_dict)] = 1\n",
    "        return map_space"
   ]
  },
  {
   "cell_type": "code",
   "execution_count": 22,
   "id": "26c33634",
   "metadata": {},
   "outputs": [
    {
     "data": {
      "text/plain": [
       "True"
      ]
     },
     "execution_count": 22,
     "metadata": {},
     "output_type": "execute_result"
    }
   ],
   "source": [
    "map_nonrecurse(2) == map_recurse(2)"
   ]
  },
  {
   "cell_type": "code",
   "execution_count": 23,
   "id": "c680c7a6",
   "metadata": {},
   "outputs": [
    {
     "data": {
      "text/plain": [
       "False"
      ]
     },
     "execution_count": 23,
     "metadata": {},
     "output_type": "execute_result"
    }
   ],
   "source": [
    "with open('mapped_8gpu.json') as f:\n",
    "    json_8gpu = json.load(f)\n",
    "map_recurse(8) == json_8gpu\n"
   ]
  },
  {
   "cell_type": "code",
   "execution_count": 28,
   "id": "b3460efd",
   "metadata": {},
   "outputs": [],
   "source": [
    "map_15 = map_recurse(15)\n",
    "with open('mapped_15gpu.json', 'w') as f:\n",
    "    json.dump(map_15, f, indent=4)"
   ]
  },
  {
   "cell_type": "code",
   "execution_count": 25,
   "id": "6f4e5b57",
   "metadata": {},
   "outputs": [
    {
     "data": {
      "text/plain": [
       "8217"
      ]
     },
     "execution_count": 25,
     "metadata": {},
     "output_type": "execute_result"
    }
   ],
   "source": [
    "len(map_8)"
   ]
  },
  {
   "cell_type": "code",
   "execution_count": 26,
   "id": "348600b1",
   "metadata": {},
   "outputs": [
    {
     "data": {
      "text/plain": [
       "8217"
      ]
     },
     "execution_count": 26,
     "metadata": {},
     "output_type": "execute_result"
    }
   ],
   "source": [
    "len(json_8gpu)"
   ]
  },
  {
   "cell_type": "code",
   "execution_count": null,
   "id": "662eeef4",
   "metadata": {},
   "outputs": [],
   "source": []
  }
 ],
 "metadata": {
  "kernelspec": {
   "display_name": "tf2",
   "language": "python",
   "name": "tf2"
  },
  "language_info": {
   "codemirror_mode": {
    "name": "ipython",
    "version": 3
   },
   "file_extension": ".py",
   "mimetype": "text/x-python",
   "name": "python",
   "nbconvert_exporter": "python",
   "pygments_lexer": "ipython3",
   "version": "3.7.11"
  }
 },
 "nbformat": 4,
 "nbformat_minor": 5
}
